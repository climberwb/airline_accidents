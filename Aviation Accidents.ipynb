{
 "cells": [
  {
   "cell_type": "code",
   "execution_count": 102,
   "metadata": {
    "collapsed": false
   },
   "outputs": [],
   "source": [
    "import sys\n",
    "sys.path.insert(0, '/home/ubuntu/miniconda3/lib/python3.5/site-packages')\n",
    "\n",
    "%matplotlib inline\n",
    "import pandas as pd\n",
    "import numpy as np\n",
    "import math\n",
    "import matplotlib.pyplot as plt\n",
    "\n",
    "w = open('./AviationData.txt')\n",
    "# list of lists\n",
    "aviation_list = []\n",
    "for st in w:\n",
    "    aviation_list.append(st.split(\" | \"))\n",
    "    \n",
    "# list of strings    \n",
    "lax_codes = []\n",
    "for i,event in enumerate(aviation_list):\n",
    "    if i>0:\n",
    "        lax_codes.append(event[0])\n",
    "\n",
    "# list of hashes\n",
    "aviation_list_of_dict=[]\n",
    "aviation_dict = {}\n",
    "attributes=aviation_list[0]\n",
    "\n",
    "for i,event in enumerate(aviation_list[1:]):\n",
    "    for attr_i,attr in enumerate(attributes):\n",
    "        if(attr_i>len(event)-1):\n",
    "            aviation_dict[attr]=''\n",
    "        else:\n",
    "            aviation_dict[attr]=event[attr_i]\n",
    "    aviation_list_of_dict.append(aviation_dict)\n",
    "    aviation_dict={}\n",
    "incidents_df =  pd.DataFrame(aviation_list_of_dict)\n"
   ]
  },
  {
   "cell_type": "code",
   "execution_count": 103,
   "metadata": {
    "collapsed": false
   },
   "outputs": [],
   "source": [
    "## order the states by number of aviation accidents\n",
    "incidents_df['state'] = incidents_df['Location'].apply(lambda x: x.split(', ')[1] if len(x.split(', '))>1 else x)\n",
    "counts_by_area = incidents_df['state'].value_counts()\n",
    "\n",
    "\n",
    "## California Texas and Florida have the top three most incidents for problems to occur in an airport"
   ]
  },
  {
   "cell_type": "code",
   "execution_count": 104,
   "metadata": {
    "collapsed": false
   },
   "outputs": [
    {
     "name": "stderr",
     "output_type": "stream",
     "text": [
      "/home/ubuntu/miniconda3/lib/python3.5/site-packages/ipykernel/__main__.py:5: FutureWarning: sort(columns=....) is deprecated, use sort_values(by=.....)\n"
     ]
    },
    {
     "data": {
      "image/png": "[encoded data removed]",
      "text/plain": [
       "<matplotlib.figure.Figure at 0x7f999a860e80>"
      ]
     },
     "metadata": {},
     "output_type": "display_data"
    }
   ],
   "source": [
    "## plot the total number of seriius injures and fatalities for a given month\n",
    "\n",
    "\n",
    "incidents_df['Event Date'] = pd.to_datetime(incidents_df['Event Date'])\n",
    "incidents_df = incidents_df.sort('Event Date')\n",
    "incidents_df['Month/Year'] = incidents_df['Event Date'].apply(lambda x: \"%d/%d\" % (x.month, x.year))\n",
    "incidents_df[['Total Serious Injuries','Total Fatal Injuries']] = incidents_df[['Total Serious Injuries','Total Fatal Injuries']].replace(to_replace='', value='0').astype(int)\n",
    "incidents_df['fatalities/injuries total'] = incidents_df['Total Fatal Injuries']+incidents_df['Total Serious Injuries']\n",
    "\n",
    "physical_harm = incidents_df.groupby(['Month/Year'])['fatalities/injuries total'].sum()\n",
    "\n",
    "\n",
    "\n",
    "plt.bar(range(len(physical_harm)), physical_harm.values, align='center')\n",
    "plt.xticks(range(len(physical_harm)), physical_harm.index.values, size='small')\n",
    "plt.show()\n",
    "\n",
    "# this plot shows the summer months of the most fatal and dangerous incidents with a peak in number \n",
    "# of people hurt or killed in August"
   ]
  },
  {
   "cell_type": "code",
   "execution_count": null,
   "metadata": {
    "collapsed": true
   },
   "outputs": [],
   "source": []
  },
  {
   "cell_type": "code",
   "execution_count": null,
   "metadata": {
    "collapsed": true
   },
   "outputs": [],
   "source": []
  },
  {
   "cell_type": "code",
   "execution_count": null,
   "metadata": {
    "collapsed": true
   },
   "outputs": [],
   "source": []
  },
  {
   "cell_type": "code",
   "execution_count": null,
   "metadata": {
    "collapsed": true
   },
   "outputs": [],
   "source": []
  },
  {
   "cell_type": "code",
   "execution_count": null,
   "metadata": {
    "collapsed": true
   },
   "outputs": [],
   "source": []
  },
  {
   "cell_type": "code",
   "execution_count": 5,
   "metadata": {
    "collapsed": false
   },
   "outputs": [
    {
     "name": "stdout",
     "output_type": "stream",
     "text": [
      "[0, 0, 0, 1, 3, 3, 5, 5, 6, 7, 8, 20, 80]\n"
     ]
    }
   ],
   "source": [
    "arr = [1,0,0,3,20,5,80,3,7,0,5,6,8]\n",
    "\n",
    "def sort(ar,c):\n",
    "    for i,a in enumerate(ar):\n",
    "        next = ar[i+1]\n",
    "        \n",
    "        if(next< a):\n",
    "            ar[i+1] = a\n",
    "            ar[i] = next\n",
    "        if(len(ar)-2 == i):\n",
    "            break\n",
    "    c=c+1\n",
    "    if c == len(ar)-1:\n",
    "        return ar\n",
    "    return sort(ar,c)\n",
    "print(sort(arr,1))"
   ]
  },
  {
   "cell_type": "code",
   "execution_count": null,
   "metadata": {
    "collapsed": true
   },
   "outputs": [],
   "source": []
  }
 ],
 "metadata": {
  "kernelspec": {
   "display_name": "Python 3",
   "language": "python",
   "name": "python3"
  },
  "language_info": {
   "codemirror_mode": {
    "name": "ipython",
    "version": 3
   },
   "file_extension": ".py",
   "mimetype": "text/x-python",
   "name": "python",
   "nbconvert_exporter": "python",
   "pygments_lexer": "ipython3",
   "version": "3.5.1"
  }
 },
 "nbformat": 4,
 "nbformat_minor": 0
}
